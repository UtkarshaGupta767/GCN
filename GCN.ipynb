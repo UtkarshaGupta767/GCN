{
  "nbformat": 4,
  "nbformat_minor": 0,
  "metadata": {
    "colab": {
      "name": "GCN_code_final.ipynb",
      "provenance": []
    },
    "kernelspec": {
      "name": "python3",
      "display_name": "Python 3"
    }
  },
  "cells": [
    {
      "cell_type": "code",
      "metadata": {
        "id": "MG7yu-hR1QZF",
        "outputId": "a9f3576e-6b0d-45c2-9f7f-fd3df16fab83",
        "colab": {
          "base_uri": "https://localhost:8080/"
        }
      },
      "source": [
        " %pip install -q stellargraph[demos]==1.2.1"
      ],
      "execution_count": null,
      "outputs": [
        {
          "output_type": "stream",
          "text": [
            "\u001b[K     |████████████████████████████████| 440kB 3.3MB/s \n",
            "\u001b[K     |████████████████████████████████| 235kB 13.8MB/s \n",
            "\u001b[K     |████████████████████████████████| 51kB 5.1MB/s \n",
            "\u001b[?25h  Building wheel for mplleaflet (setup.py) ... \u001b[?25l\u001b[?25hdone\n"
          ],
          "name": "stdout"
        }
      ]
    },
    {
      "cell_type": "code",
      "metadata": {
        "id": "guodjwcF1rZw"
      },
      "source": [
        "import stellargraph as sg\n",
        "\n"
      ],
      "execution_count": null,
      "outputs": []
    },
    {
      "cell_type": "code",
      "metadata": {
        "id": "kbFALyQE1wsG"
      },
      "source": [
        "import pandas as pd\n",
        "import os\n",
        "\n",
        "import stellargraph as sg\n",
        "from stellargraph.mapper import FullBatchNodeGenerator\n",
        "from stellargraph.layer import GCN\n",
        "\n",
        "from tensorflow.keras import layers, optimizers, losses, metrics, Model\n",
        "from sklearn import preprocessing, model_selection\n",
        "from IPython.display import display, HTML\n",
        "import matplotlib.pyplot as plt\n",
        "%matplotlib inline"
      ],
      "execution_count": null,
      "outputs": []
    },
    {
      "cell_type": "code",
      "metadata": {
        "id": "ESZDMOmr15Z3"
      },
      "source": [
        "dataset = sg.datasets.Cora()\n",
        "\n",
        "G, node_subjects = dataset.load()"
      ],
      "execution_count": null,
      "outputs": []
    },
    {
      "cell_type": "code",
      "metadata": {
        "id": "2wBP9jaT1_p7",
        "outputId": "86edfcfb-3006-4def-ceef-7727a0f540c1",
        "colab": {
          "base_uri": "https://localhost:8080/"
        }
      },
      "source": [
        "print(G.info())"
      ],
      "execution_count": null,
      "outputs": [
        {
          "output_type": "stream",
          "text": [
            "StellarGraph: Undirected multigraph\n",
            " Nodes: 2708, Edges: 5429\n",
            "\n",
            " Node types:\n",
            "  paper: [2708]\n",
            "    Features: float32 vector, length 1433\n",
            "    Edge types: paper-cites->paper\n",
            "\n",
            " Edge types:\n",
            "    paper-cites->paper: [5429]\n",
            "        Weights: all 1 (default)\n",
            "        Features: none\n"
          ],
          "name": "stdout"
        }
      ]
    },
    {
      "cell_type": "code",
      "metadata": {
        "id": "sslS54Zs2JGX"
      },
      "source": [
        "train_subjects, test_subjects = model_selection.train_test_split(\n",
        "    node_subjects, train_size=140, test_size=None, stratify=node_subjects\n",
        ")\n",
        "val_subjects, test_subjects = model_selection.train_test_split(\n",
        "    test_subjects, train_size=500, test_size=None, stratify=test_subjects\n",
        ")"
      ],
      "execution_count": null,
      "outputs": []
    },
    {
      "cell_type": "code",
      "metadata": {
        "id": "mPvGqnWf2TPE"
      },
      "source": [
        "target_encoding = preprocessing.LabelBinarizer()\n",
        "\n",
        "train_targets = target_encoding.fit_transform(train_subjects)\n",
        "val_targets = target_encoding.transform(val_subjects)\n",
        "test_targets = target_encoding.transform(test_subjects)"
      ],
      "execution_count": null,
      "outputs": []
    },
    {
      "cell_type": "code",
      "metadata": {
        "id": "0uKhqLo02ZZS",
        "outputId": "461e9a11-d48b-4e60-f3f2-7b7da59ba9b5",
        "colab": {
          "base_uri": "https://localhost:8080/"
        }
      },
      "source": [
        "generator = FullBatchNodeGenerator(G, method=\"gcn\")\n",
        "train_gen = generator.flow(train_subjects.index, train_targets)"
      ],
      "execution_count": null,
      "outputs": [
        {
          "output_type": "stream",
          "text": [
            "Using GCN (local pooling) filters...\n"
          ],
          "name": "stdout"
        }
      ]
    },
    {
      "cell_type": "code",
      "metadata": {
        "id": "rarNUs5R2j2E"
      },
      "source": [
        "gcn = GCN(\n",
        "    layer_sizes=[16, 16], activations=[\"relu\", \"relu\"], generator=generator, dropout=0.5\n",
        ")"
      ],
      "execution_count": null,
      "outputs": []
    },
    {
      "cell_type": "code",
      "metadata": {
        "id": "Fe49MKfG2osG",
        "outputId": "9a88e7ce-30e9-4bd7-80cb-3423af4b87c1",
        "colab": {
          "base_uri": "https://localhost:8080/"
        }
      },
      "source": [
        "x_inp, x_out = gcn.in_out_tensors()\n",
        "\n",
        "x_out"
      ],
      "execution_count": null,
      "outputs": [
        {
          "output_type": "execute_result",
          "data": {
            "text/plain": [
              "<tf.Tensor 'gather_indices/GatherV2:0' shape=(1, None, 16) dtype=float32>"
            ]
          },
          "metadata": {
            "tags": []
          },
          "execution_count": 10
        }
      ]
    },
    {
      "cell_type": "code",
      "metadata": {
        "id": "vPaJviBC2wWA"
      },
      "source": [
        "predictions = layers.Dense(units=train_targets.shape[1], activation=\"softmax\")(x_out)"
      ],
      "execution_count": null,
      "outputs": []
    },
    {
      "cell_type": "code",
      "metadata": {
        "id": "HHIMxJqn21lH"
      },
      "source": [
        "model = Model(inputs=x_inp, outputs=predictions)\n",
        "model.compile(\n",
        "    optimizer=optimizers.Adam(lr=0.01),\n",
        "    loss=losses.categorical_crossentropy,\n",
        "    metrics=[\"acc\"],\n",
        ")"
      ],
      "execution_count": null,
      "outputs": []
    },
    {
      "cell_type": "code",
      "metadata": {
        "id": "JplZYChu265_"
      },
      "source": [
        "val_gen = generator.flow(val_subjects.index, val_targets)"
      ],
      "execution_count": null,
      "outputs": []
    },
    {
      "cell_type": "code",
      "metadata": {
        "id": "NIpt7fB72_bQ"
      },
      "source": [
        "from tensorflow.keras.callbacks import EarlyStopping\n",
        "\n",
        "es_callback = EarlyStopping(monitor=\"val_acc\", patience=50, restore_best_weights=True)"
      ],
      "execution_count": null,
      "outputs": []
    },
    {
      "cell_type": "code",
      "metadata": {
        "id": "XRO5IVvg3FCj",
        "outputId": "96f4188b-7b06-4140-c1b7-157ff2f2173b",
        "colab": {
          "base_uri": "https://localhost:8080/"
        }
      },
      "source": [
        "history = model.fit(\n",
        "    train_gen,\n",
        "    epochs=200,\n",
        "    validation_data=val_gen,\n",
        "    verbose=2,\n",
        "    shuffle=False,  # this should be False, since shuffling data means shuffling the whole graph\n",
        "    callbacks=[es_callback],\n",
        ")"
      ],
      "execution_count": null,
      "outputs": [
        {
          "output_type": "stream",
          "text": [
            "Epoch 1/200\n",
            "1/1 - 0s - loss: 1.9614 - acc: 0.1714 - val_loss: 1.9235 - val_acc: 0.1920\n",
            "Epoch 2/200\n",
            "1/1 - 0s - loss: 1.9140 - acc: 0.2071 - val_loss: 1.8915 - val_acc: 0.1720\n",
            "Epoch 3/200\n",
            "1/1 - 0s - loss: 1.8653 - acc: 0.2357 - val_loss: 1.8438 - val_acc: 0.1940\n",
            "Epoch 4/200\n",
            "1/1 - 0s - loss: 1.8050 - acc: 0.2714 - val_loss: 1.7867 - val_acc: 0.2600\n",
            "Epoch 5/200\n",
            "1/1 - 0s - loss: 1.7304 - acc: 0.3500 - val_loss: 1.7294 - val_acc: 0.2820\n",
            "Epoch 6/200\n",
            "1/1 - 0s - loss: 1.6631 - acc: 0.3500 - val_loss: 1.6656 - val_acc: 0.3260\n",
            "Epoch 7/200\n",
            "1/1 - 0s - loss: 1.5733 - acc: 0.3714 - val_loss: 1.5941 - val_acc: 0.4140\n",
            "Epoch 8/200\n",
            "1/1 - 0s - loss: 1.5060 - acc: 0.4786 - val_loss: 1.5197 - val_acc: 0.5480\n",
            "Epoch 9/200\n",
            "1/1 - 0s - loss: 1.4088 - acc: 0.5500 - val_loss: 1.4480 - val_acc: 0.6380\n",
            "Epoch 10/200\n",
            "1/1 - 0s - loss: 1.3296 - acc: 0.6786 - val_loss: 1.3767 - val_acc: 0.6900\n",
            "Epoch 11/200\n",
            "1/1 - 0s - loss: 1.2438 - acc: 0.6929 - val_loss: 1.3027 - val_acc: 0.7020\n",
            "Epoch 12/200\n",
            "1/1 - 0s - loss: 1.1368 - acc: 0.6929 - val_loss: 1.2276 - val_acc: 0.7200\n",
            "Epoch 13/200\n",
            "1/1 - 0s - loss: 1.0421 - acc: 0.7714 - val_loss: 1.1547 - val_acc: 0.7280\n",
            "Epoch 14/200\n",
            "1/1 - 0s - loss: 0.9638 - acc: 0.7643 - val_loss: 1.0867 - val_acc: 0.7360\n",
            "Epoch 15/200\n",
            "1/1 - 0s - loss: 0.9005 - acc: 0.7786 - val_loss: 1.0242 - val_acc: 0.7460\n",
            "Epoch 16/200\n",
            "1/1 - 0s - loss: 0.8750 - acc: 0.7929 - val_loss: 0.9658 - val_acc: 0.7500\n",
            "Epoch 17/200\n",
            "1/1 - 0s - loss: 0.7539 - acc: 0.8000 - val_loss: 0.9155 - val_acc: 0.7540\n",
            "Epoch 18/200\n",
            "1/1 - 0s - loss: 0.6770 - acc: 0.8429 - val_loss: 0.8703 - val_acc: 0.7640\n",
            "Epoch 19/200\n",
            "1/1 - 0s - loss: 0.6185 - acc: 0.8214 - val_loss: 0.8237 - val_acc: 0.7700\n",
            "Epoch 20/200\n",
            "1/1 - 0s - loss: 0.5885 - acc: 0.8286 - val_loss: 0.7834 - val_acc: 0.7800\n",
            "Epoch 21/200\n",
            "1/1 - 0s - loss: 0.4851 - acc: 0.8714 - val_loss: 0.7496 - val_acc: 0.7920\n",
            "Epoch 22/200\n",
            "1/1 - 0s - loss: 0.4358 - acc: 0.8929 - val_loss: 0.7215 - val_acc: 0.7920\n",
            "Epoch 23/200\n",
            "1/1 - 0s - loss: 0.3968 - acc: 0.9214 - val_loss: 0.6974 - val_acc: 0.8000\n",
            "Epoch 24/200\n",
            "1/1 - 0s - loss: 0.3282 - acc: 0.9357 - val_loss: 0.6747 - val_acc: 0.8120\n",
            "Epoch 25/200\n",
            "1/1 - 0s - loss: 0.3002 - acc: 0.9571 - val_loss: 0.6546 - val_acc: 0.8260\n",
            "Epoch 26/200\n",
            "1/1 - 0s - loss: 0.3236 - acc: 0.9500 - val_loss: 0.6427 - val_acc: 0.8220\n",
            "Epoch 27/200\n",
            "1/1 - 0s - loss: 0.2561 - acc: 0.9571 - val_loss: 0.6337 - val_acc: 0.8260\n",
            "Epoch 28/200\n",
            "1/1 - 0s - loss: 0.2587 - acc: 0.9143 - val_loss: 0.6288 - val_acc: 0.8200\n",
            "Epoch 29/200\n",
            "1/1 - 0s - loss: 0.2518 - acc: 0.9143 - val_loss: 0.6293 - val_acc: 0.8180\n",
            "Epoch 30/200\n",
            "1/1 - 0s - loss: 0.1948 - acc: 0.9571 - val_loss: 0.6284 - val_acc: 0.8160\n",
            "Epoch 31/200\n",
            "1/1 - 0s - loss: 0.1854 - acc: 0.9643 - val_loss: 0.6243 - val_acc: 0.8160\n",
            "Epoch 32/200\n",
            "1/1 - 0s - loss: 0.1640 - acc: 0.9786 - val_loss: 0.6241 - val_acc: 0.8140\n",
            "Epoch 33/200\n",
            "1/1 - 0s - loss: 0.1241 - acc: 0.9714 - val_loss: 0.6305 - val_acc: 0.8180\n",
            "Epoch 34/200\n",
            "1/1 - 0s - loss: 0.1536 - acc: 0.9643 - val_loss: 0.6277 - val_acc: 0.8260\n",
            "Epoch 35/200\n",
            "1/1 - 0s - loss: 0.1066 - acc: 0.9714 - val_loss: 0.6274 - val_acc: 0.8180\n",
            "Epoch 36/200\n",
            "1/1 - 0s - loss: 0.1204 - acc: 0.9714 - val_loss: 0.6222 - val_acc: 0.8160\n",
            "Epoch 37/200\n",
            "1/1 - 0s - loss: 0.1122 - acc: 0.9714 - val_loss: 0.6101 - val_acc: 0.8180\n",
            "Epoch 38/200\n",
            "1/1 - 0s - loss: 0.1318 - acc: 0.9714 - val_loss: 0.6053 - val_acc: 0.8200\n",
            "Epoch 39/200\n",
            "1/1 - 0s - loss: 0.1025 - acc: 0.9643 - val_loss: 0.6045 - val_acc: 0.8240\n",
            "Epoch 40/200\n",
            "1/1 - 0s - loss: 0.0987 - acc: 0.9714 - val_loss: 0.6080 - val_acc: 0.8200\n",
            "Epoch 41/200\n",
            "1/1 - 0s - loss: 0.1287 - acc: 0.9429 - val_loss: 0.6139 - val_acc: 0.8160\n",
            "Epoch 42/200\n",
            "1/1 - 0s - loss: 0.1252 - acc: 0.9643 - val_loss: 0.6199 - val_acc: 0.8120\n",
            "Epoch 43/200\n",
            "1/1 - 0s - loss: 0.1264 - acc: 0.9714 - val_loss: 0.6221 - val_acc: 0.8180\n",
            "Epoch 44/200\n",
            "1/1 - 0s - loss: 0.0830 - acc: 0.9786 - val_loss: 0.6254 - val_acc: 0.8200\n",
            "Epoch 45/200\n",
            "1/1 - 0s - loss: 0.0935 - acc: 0.9786 - val_loss: 0.6287 - val_acc: 0.8240\n",
            "Epoch 46/200\n",
            "1/1 - 0s - loss: 0.0559 - acc: 1.0000 - val_loss: 0.6331 - val_acc: 0.8240\n",
            "Epoch 47/200\n",
            "1/1 - 0s - loss: 0.0749 - acc: 0.9857 - val_loss: 0.6368 - val_acc: 0.8200\n",
            "Epoch 48/200\n",
            "1/1 - 0s - loss: 0.0790 - acc: 0.9786 - val_loss: 0.6386 - val_acc: 0.8280\n",
            "Epoch 49/200\n",
            "1/1 - 0s - loss: 0.0522 - acc: 0.9857 - val_loss: 0.6423 - val_acc: 0.8200\n",
            "Epoch 50/200\n",
            "1/1 - 0s - loss: 0.0511 - acc: 0.9857 - val_loss: 0.6448 - val_acc: 0.8240\n",
            "Epoch 51/200\n",
            "1/1 - 0s - loss: 0.0940 - acc: 0.9786 - val_loss: 0.6468 - val_acc: 0.8240\n",
            "Epoch 52/200\n",
            "1/1 - 0s - loss: 0.0513 - acc: 0.9929 - val_loss: 0.6507 - val_acc: 0.8180\n",
            "Epoch 53/200\n",
            "1/1 - 0s - loss: 0.0605 - acc: 0.9929 - val_loss: 0.6566 - val_acc: 0.8200\n",
            "Epoch 54/200\n",
            "1/1 - 0s - loss: 0.0376 - acc: 0.9929 - val_loss: 0.6630 - val_acc: 0.8180\n",
            "Epoch 55/200\n",
            "1/1 - 0s - loss: 0.0833 - acc: 0.9714 - val_loss: 0.6653 - val_acc: 0.8200\n",
            "Epoch 56/200\n",
            "1/1 - 0s - loss: 0.0826 - acc: 0.9643 - val_loss: 0.6689 - val_acc: 0.8200\n",
            "Epoch 57/200\n",
            "1/1 - 0s - loss: 0.0491 - acc: 0.9857 - val_loss: 0.6720 - val_acc: 0.8200\n",
            "Epoch 58/200\n",
            "1/1 - 0s - loss: 0.0389 - acc: 1.0000 - val_loss: 0.6776 - val_acc: 0.8140\n",
            "Epoch 59/200\n",
            "1/1 - 0s - loss: 0.0661 - acc: 0.9786 - val_loss: 0.6885 - val_acc: 0.8140\n",
            "Epoch 60/200\n",
            "1/1 - 0s - loss: 0.0486 - acc: 0.9857 - val_loss: 0.7017 - val_acc: 0.8120\n",
            "Epoch 61/200\n",
            "1/1 - 0s - loss: 0.0537 - acc: 0.9857 - val_loss: 0.7173 - val_acc: 0.8100\n",
            "Epoch 62/200\n",
            "1/1 - 0s - loss: 0.0415 - acc: 0.9929 - val_loss: 0.7336 - val_acc: 0.8200\n",
            "Epoch 63/200\n",
            "1/1 - 0s - loss: 0.0756 - acc: 0.9714 - val_loss: 0.7385 - val_acc: 0.8160\n",
            "Epoch 64/200\n",
            "1/1 - 0s - loss: 0.0506 - acc: 0.9929 - val_loss: 0.7408 - val_acc: 0.8160\n",
            "Epoch 65/200\n",
            "1/1 - 0s - loss: 0.0530 - acc: 0.9786 - val_loss: 0.7427 - val_acc: 0.8160\n",
            "Epoch 66/200\n",
            "1/1 - 0s - loss: 0.0423 - acc: 0.9929 - val_loss: 0.7423 - val_acc: 0.8160\n",
            "Epoch 67/200\n",
            "1/1 - 0s - loss: 0.0495 - acc: 0.9857 - val_loss: 0.7381 - val_acc: 0.8120\n",
            "Epoch 68/200\n",
            "1/1 - 0s - loss: 0.0466 - acc: 0.9786 - val_loss: 0.7322 - val_acc: 0.8120\n",
            "Epoch 69/200\n",
            "1/1 - 0s - loss: 0.0574 - acc: 0.9857 - val_loss: 0.7304 - val_acc: 0.8140\n",
            "Epoch 70/200\n",
            "1/1 - 0s - loss: 0.0570 - acc: 0.9929 - val_loss: 0.7203 - val_acc: 0.8080\n",
            "Epoch 71/200\n",
            "1/1 - 0s - loss: 0.0362 - acc: 1.0000 - val_loss: 0.7105 - val_acc: 0.8120\n",
            "Epoch 72/200\n",
            "1/1 - 0s - loss: 0.0305 - acc: 1.0000 - val_loss: 0.7011 - val_acc: 0.8140\n",
            "Epoch 73/200\n",
            "1/1 - 0s - loss: 0.0385 - acc: 0.9857 - val_loss: 0.6963 - val_acc: 0.8160\n",
            "Epoch 74/200\n",
            "1/1 - 0s - loss: 0.0549 - acc: 0.9786 - val_loss: 0.6923 - val_acc: 0.8160\n",
            "Epoch 75/200\n",
            "1/1 - 0s - loss: 0.0284 - acc: 0.9929 - val_loss: 0.6944 - val_acc: 0.8120\n",
            "Epoch 76/200\n",
            "1/1 - 0s - loss: 0.0297 - acc: 0.9929 - val_loss: 0.7015 - val_acc: 0.8100\n",
            "Epoch 77/200\n",
            "1/1 - 0s - loss: 0.0221 - acc: 1.0000 - val_loss: 0.7078 - val_acc: 0.8140\n",
            "Epoch 78/200\n",
            "1/1 - 0s - loss: 0.0503 - acc: 0.9857 - val_loss: 0.7122 - val_acc: 0.8140\n",
            "Epoch 79/200\n",
            "1/1 - 0s - loss: 0.0704 - acc: 0.9643 - val_loss: 0.7048 - val_acc: 0.8200\n",
            "Epoch 80/200\n",
            "1/1 - 0s - loss: 0.0416 - acc: 0.9786 - val_loss: 0.7059 - val_acc: 0.8220\n",
            "Epoch 81/200\n",
            "1/1 - 0s - loss: 0.0421 - acc: 0.9786 - val_loss: 0.7183 - val_acc: 0.8300\n",
            "Epoch 82/200\n",
            "1/1 - 0s - loss: 0.0152 - acc: 1.0000 - val_loss: 0.7401 - val_acc: 0.8220\n",
            "Epoch 83/200\n",
            "1/1 - 0s - loss: 0.0273 - acc: 1.0000 - val_loss: 0.7648 - val_acc: 0.8120\n",
            "Epoch 84/200\n",
            "1/1 - 0s - loss: 0.0375 - acc: 0.9929 - val_loss: 0.7875 - val_acc: 0.8100\n",
            "Epoch 85/200\n",
            "1/1 - 0s - loss: 0.0420 - acc: 0.9857 - val_loss: 0.8072 - val_acc: 0.8100\n",
            "Epoch 86/200\n",
            "1/1 - 0s - loss: 0.0408 - acc: 0.9857 - val_loss: 0.8241 - val_acc: 0.8040\n",
            "Epoch 87/200\n",
            "1/1 - 0s - loss: 0.0329 - acc: 0.9929 - val_loss: 0.8356 - val_acc: 0.8000\n",
            "Epoch 88/200\n",
            "1/1 - 0s - loss: 0.0366 - acc: 0.9857 - val_loss: 0.8404 - val_acc: 0.8040\n",
            "Epoch 89/200\n",
            "1/1 - 0s - loss: 0.0262 - acc: 0.9929 - val_loss: 0.8428 - val_acc: 0.8040\n",
            "Epoch 90/200\n",
            "1/1 - 0s - loss: 0.0200 - acc: 1.0000 - val_loss: 0.8414 - val_acc: 0.8120\n",
            "Epoch 91/200\n",
            "1/1 - 0s - loss: 0.0417 - acc: 0.9786 - val_loss: 0.8264 - val_acc: 0.8160\n",
            "Epoch 92/200\n",
            "1/1 - 0s - loss: 0.0165 - acc: 1.0000 - val_loss: 0.8156 - val_acc: 0.8160\n",
            "Epoch 93/200\n",
            "1/1 - 0s - loss: 0.0314 - acc: 0.9857 - val_loss: 0.8031 - val_acc: 0.8100\n",
            "Epoch 94/200\n",
            "1/1 - 0s - loss: 0.0173 - acc: 0.9929 - val_loss: 0.7940 - val_acc: 0.8140\n",
            "Epoch 95/200\n",
            "1/1 - 0s - loss: 0.0191 - acc: 1.0000 - val_loss: 0.7856 - val_acc: 0.8120\n",
            "Epoch 96/200\n",
            "1/1 - 0s - loss: 0.0183 - acc: 1.0000 - val_loss: 0.7785 - val_acc: 0.8160\n",
            "Epoch 97/200\n",
            "1/1 - 0s - loss: 0.0139 - acc: 1.0000 - val_loss: 0.7757 - val_acc: 0.8120\n",
            "Epoch 98/200\n",
            "1/1 - 0s - loss: 0.0097 - acc: 1.0000 - val_loss: 0.7775 - val_acc: 0.8140\n",
            "Epoch 99/200\n",
            "1/1 - 0s - loss: 0.0257 - acc: 0.9929 - val_loss: 0.7791 - val_acc: 0.8120\n",
            "Epoch 100/200\n",
            "1/1 - 0s - loss: 0.0208 - acc: 1.0000 - val_loss: 0.7802 - val_acc: 0.8080\n",
            "Epoch 101/200\n",
            "1/1 - 0s - loss: 0.0381 - acc: 0.9857 - val_loss: 0.7814 - val_acc: 0.8080\n",
            "Epoch 102/200\n",
            "1/1 - 0s - loss: 0.0263 - acc: 0.9929 - val_loss: 0.7801 - val_acc: 0.8100\n",
            "Epoch 103/200\n",
            "1/1 - 0s - loss: 0.0363 - acc: 0.9786 - val_loss: 0.7781 - val_acc: 0.8160\n",
            "Epoch 104/200\n",
            "1/1 - 0s - loss: 0.0409 - acc: 0.9857 - val_loss: 0.7803 - val_acc: 0.8180\n",
            "Epoch 105/200\n",
            "1/1 - 0s - loss: 0.0177 - acc: 1.0000 - val_loss: 0.7829 - val_acc: 0.8140\n",
            "Epoch 106/200\n",
            "1/1 - 0s - loss: 0.0183 - acc: 1.0000 - val_loss: 0.7842 - val_acc: 0.8140\n",
            "Epoch 107/200\n",
            "1/1 - 0s - loss: 0.0121 - acc: 1.0000 - val_loss: 0.7836 - val_acc: 0.8180\n",
            "Epoch 108/200\n",
            "1/1 - 0s - loss: 0.0207 - acc: 1.0000 - val_loss: 0.7835 - val_acc: 0.8200\n",
            "Epoch 109/200\n",
            "1/1 - 0s - loss: 0.0132 - acc: 1.0000 - val_loss: 0.7854 - val_acc: 0.8180\n",
            "Epoch 110/200\n",
            "1/1 - 0s - loss: 0.0228 - acc: 1.0000 - val_loss: 0.7865 - val_acc: 0.8240\n",
            "Epoch 111/200\n",
            "1/1 - 0s - loss: 0.0338 - acc: 0.9857 - val_loss: 0.7909 - val_acc: 0.8300\n",
            "Epoch 112/200\n",
            "1/1 - 0s - loss: 0.0588 - acc: 0.9786 - val_loss: 0.7929 - val_acc: 0.8220\n",
            "Epoch 113/200\n",
            "1/1 - 0s - loss: 0.0406 - acc: 0.9857 - val_loss: 0.7953 - val_acc: 0.8240\n",
            "Epoch 114/200\n",
            "1/1 - 0s - loss: 0.0158 - acc: 1.0000 - val_loss: 0.8008 - val_acc: 0.8180\n",
            "Epoch 115/200\n",
            "1/1 - 0s - loss: 0.0263 - acc: 0.9929 - val_loss: 0.8116 - val_acc: 0.8180\n",
            "Epoch 116/200\n",
            "1/1 - 0s - loss: 0.0346 - acc: 0.9857 - val_loss: 0.8291 - val_acc: 0.8140\n",
            "Epoch 117/200\n",
            "1/1 - 0s - loss: 0.0140 - acc: 1.0000 - val_loss: 0.8495 - val_acc: 0.8080\n",
            "Epoch 118/200\n",
            "1/1 - 0s - loss: 0.0178 - acc: 0.9929 - val_loss: 0.8699 - val_acc: 0.8120\n",
            "Epoch 119/200\n",
            "1/1 - 0s - loss: 0.0178 - acc: 0.9929 - val_loss: 0.8935 - val_acc: 0.8120\n",
            "Epoch 120/200\n",
            "1/1 - 0s - loss: 0.0167 - acc: 1.0000 - val_loss: 0.9091 - val_acc: 0.8160\n",
            "Epoch 121/200\n",
            "1/1 - 0s - loss: 0.0442 - acc: 0.9857 - val_loss: 0.9135 - val_acc: 0.8160\n",
            "Epoch 122/200\n",
            "1/1 - 0s - loss: 0.0247 - acc: 0.9929 - val_loss: 0.9145 - val_acc: 0.8180\n",
            "Epoch 123/200\n",
            "1/1 - 0s - loss: 0.0278 - acc: 0.9929 - val_loss: 0.9171 - val_acc: 0.8100\n",
            "Epoch 124/200\n",
            "1/1 - 0s - loss: 0.0098 - acc: 1.0000 - val_loss: 0.9177 - val_acc: 0.8080\n",
            "Epoch 125/200\n",
            "1/1 - 0s - loss: 0.0216 - acc: 0.9929 - val_loss: 0.9125 - val_acc: 0.8100\n",
            "Epoch 126/200\n",
            "1/1 - 0s - loss: 0.0065 - acc: 1.0000 - val_loss: 0.9105 - val_acc: 0.8060\n",
            "Epoch 127/200\n",
            "1/1 - 0s - loss: 0.0451 - acc: 0.9929 - val_loss: 0.9013 - val_acc: 0.8060\n",
            "Epoch 128/200\n",
            "1/1 - 0s - loss: 0.0122 - acc: 1.0000 - val_loss: 0.8927 - val_acc: 0.8080\n",
            "Epoch 129/200\n",
            "1/1 - 0s - loss: 0.0186 - acc: 0.9929 - val_loss: 0.8839 - val_acc: 0.8060\n",
            "Epoch 130/200\n",
            "1/1 - 0s - loss: 0.0114 - acc: 1.0000 - val_loss: 0.8777 - val_acc: 0.8080\n",
            "Epoch 131/200\n",
            "1/1 - 0s - loss: 0.0158 - acc: 1.0000 - val_loss: 0.8738 - val_acc: 0.8120\n"
          ],
          "name": "stdout"
        }
      ]
    },
    {
      "cell_type": "code",
      "metadata": {
        "id": "Y56pwYFP3LPb",
        "outputId": "c4abd904-91fd-4ab4-89cf-553febe79069",
        "colab": {
          "base_uri": "https://localhost:8080/",
          "height": 585
        }
      },
      "source": [
        "sg.utils.plot_history(history)"
      ],
      "execution_count": null,
      "outputs": [
        {
          "output_type": "display_data",
          "data": {
            "image/png": "[encoded data removed]",
            "text/plain": [
              "<Figure size 504x576 with 2 Axes>"
            ]
          },
          "metadata": {
            "tags": [],
            "needs_background": "light"
          }
        }
      ]
    },
    {
      "cell_type": "code",
      "metadata": {
        "id": "azWq3lkafNWw"
      },
      "source": [
        "test_gen = generator.flow(test_subjects.index, test_targets)"
      ],
      "execution_count": null,
      "outputs": []
    },
    {
      "cell_type": "code",
      "metadata": {
        "id": "gGXdRHD-fUJJ",
        "outputId": "4236b358-93f7-4c33-89ff-4ab6577e49b1",
        "colab": {
          "base_uri": "https://localhost:8080/"
        }
      },
      "source": [
        "test_metrics = model.evaluate(test_gen)\n",
        "print(\"\\nTest Set Metrics:\")\n",
        "for name, val in zip(model.metrics_names, test_metrics):\n",
        "    print(\"\\t{}: {:0.4f}\".format(name, val))"
      ],
      "execution_count": null,
      "outputs": [
        {
          "output_type": "stream",
          "text": [
            "1/1 [==============================] - 0s 1ms/step - loss: 0.9128 - acc: 0.8013\n",
            "\n",
            "Test Set Metrics:\n",
            "\tloss: 0.9128\n",
            "\tacc: 0.8013\n"
          ],
          "name": "stdout"
        }
      ]
    },
    {
      "cell_type": "code",
      "metadata": {
        "id": "yVWT09-UfXgO"
      },
      "source": [
        ""
      ],
      "execution_count": null,
      "outputs": []
    }
  ]
}